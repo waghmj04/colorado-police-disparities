{
 "cells": [
  {
   "cell_type": "code",
   "execution_count": 1,
   "metadata": {},
   "outputs": [
    {
     "name": "stderr",
     "output_type": "stream",
     "text": [
      "C:\\Users\\Makarand Thorat\\anaconda3\\lib\\site-packages\\IPython\\core\\interactiveshell.py:3146: DtypeWarning: Columns (7,8,9,12,13,14,15,16,17,18) have mixed types.Specify dtype option on import or set low_memory=False.\n",
      "  has_raised = await self.run_ast_nodes(code_ast.body, cell_name,\n"
     ]
    },
    {
     "data": {
      "text/html": [
       "<div>\n",
       "<style scoped>\n",
       "    .dataframe tbody tr th:only-of-type {\n",
       "        vertical-align: middle;\n",
       "    }\n",
       "\n",
       "    .dataframe tbody tr th {\n",
       "        vertical-align: top;\n",
       "    }\n",
       "\n",
       "    .dataframe thead th {\n",
       "        text-align: right;\n",
       "    }\n",
       "</style>\n",
       "<table border=\"1\" class=\"dataframe\">\n",
       "  <thead>\n",
       "    <tr style=\"text-align: right;\">\n",
       "      <th></th>\n",
       "      <th>raw_row_number</th>\n",
       "      <th>date</th>\n",
       "      <th>time</th>\n",
       "      <th>location</th>\n",
       "      <th>county_name</th>\n",
       "      <th>subject_age</th>\n",
       "      <th>subject_race</th>\n",
       "      <th>subject_sex</th>\n",
       "      <th>officer_id_hash</th>\n",
       "      <th>officer_sex</th>\n",
       "      <th>type</th>\n",
       "      <th>violation</th>\n",
       "      <th>arrest_made</th>\n",
       "      <th>citation_issued</th>\n",
       "      <th>warning_issued</th>\n",
       "      <th>outcome</th>\n",
       "      <th>contraband_found</th>\n",
       "      <th>search_conducted</th>\n",
       "      <th>search_basis</th>\n",
       "      <th>raw_Ethnicity</th>\n",
       "    </tr>\n",
       "  </thead>\n",
       "  <tbody>\n",
       "    <tr>\n",
       "      <th>0</th>\n",
       "      <td>1947986|1947987</td>\n",
       "      <td>2013-06-19</td>\n",
       "      <td>NaN</td>\n",
       "      <td>19, I70, 8</td>\n",
       "      <td>Mesa County</td>\n",
       "      <td>26.0</td>\n",
       "      <td>hispanic</td>\n",
       "      <td>male</td>\n",
       "      <td>b942632983</td>\n",
       "      <td>male</td>\n",
       "      <td>vehicular</td>\n",
       "      <td>Driver's Vision Obstructed Through Required Gl...</td>\n",
       "      <td>False</td>\n",
       "      <td>True</td>\n",
       "      <td>False</td>\n",
       "      <td>citation</td>\n",
       "      <td>NaN</td>\n",
       "      <td>False</td>\n",
       "      <td>NaN</td>\n",
       "      <td>H</td>\n",
       "    </tr>\n",
       "    <tr>\n",
       "      <th>1</th>\n",
       "      <td>1537576</td>\n",
       "      <td>2012-08-24</td>\n",
       "      <td>NaN</td>\n",
       "      <td>254, H285, 11</td>\n",
       "      <td>Jefferson County</td>\n",
       "      <td>NaN</td>\n",
       "      <td>NaN</td>\n",
       "      <td>NaN</td>\n",
       "      <td>f3d4f46927</td>\n",
       "      <td>NaN</td>\n",
       "      <td>vehicular</td>\n",
       "      <td>NaN</td>\n",
       "      <td>False</td>\n",
       "      <td>False</td>\n",
       "      <td>False</td>\n",
       "      <td>NaN</td>\n",
       "      <td>NaN</td>\n",
       "      <td>False</td>\n",
       "      <td>NaN</td>\n",
       "      <td>NaN</td>\n",
       "    </tr>\n",
       "    <tr>\n",
       "      <th>2</th>\n",
       "      <td>1581594</td>\n",
       "      <td>2012-09-23</td>\n",
       "      <td>NaN</td>\n",
       "      <td>115, I76, 13</td>\n",
       "      <td>Logan County</td>\n",
       "      <td>52.0</td>\n",
       "      <td>white</td>\n",
       "      <td>male</td>\n",
       "      <td>6e49e2fbc8</td>\n",
       "      <td>male</td>\n",
       "      <td>vehicular</td>\n",
       "      <td>Speeding (10-19 MPH Over the Maximum 75 MPH Li...</td>\n",
       "      <td>False</td>\n",
       "      <td>False</td>\n",
       "      <td>True</td>\n",
       "      <td>warning</td>\n",
       "      <td>NaN</td>\n",
       "      <td>False</td>\n",
       "      <td>NaN</td>\n",
       "      <td>W</td>\n",
       "    </tr>\n",
       "    <tr>\n",
       "      <th>3</th>\n",
       "      <td>1009205</td>\n",
       "      <td>2011-08-25</td>\n",
       "      <td>NaN</td>\n",
       "      <td>197, H85, 47</td>\n",
       "      <td>Douglas County</td>\n",
       "      <td>32.0</td>\n",
       "      <td>white</td>\n",
       "      <td>female</td>\n",
       "      <td>eaea851669</td>\n",
       "      <td>NaN</td>\n",
       "      <td>vehicular</td>\n",
       "      <td>Speeding (10-19 MPH Over Prima Facie Limit *)</td>\n",
       "      <td>False</td>\n",
       "      <td>True</td>\n",
       "      <td>False</td>\n",
       "      <td>citation</td>\n",
       "      <td>NaN</td>\n",
       "      <td>False</td>\n",
       "      <td>NaN</td>\n",
       "      <td>W</td>\n",
       "    </tr>\n",
       "    <tr>\n",
       "      <th>4</th>\n",
       "      <td>1932619</td>\n",
       "      <td>2013-06-08</td>\n",
       "      <td>NaN</td>\n",
       "      <td>107, H287, 45</td>\n",
       "      <td>Kiowa County</td>\n",
       "      <td>33.0</td>\n",
       "      <td>hispanic</td>\n",
       "      <td>male</td>\n",
       "      <td>d18e34d749</td>\n",
       "      <td>male</td>\n",
       "      <td>vehicular</td>\n",
       "      <td>Failed to Drive in Single Lane (Weaving)</td>\n",
       "      <td>False</td>\n",
       "      <td>False</td>\n",
       "      <td>True</td>\n",
       "      <td>warning</td>\n",
       "      <td>NaN</td>\n",
       "      <td>False</td>\n",
       "      <td>NaN</td>\n",
       "      <td>H</td>\n",
       "    </tr>\n",
       "  </tbody>\n",
       "</table>\n",
       "</div>"
      ],
      "text/plain": [
       "    raw_row_number        date  time       location       county_name  \\\n",
       "0  1947986|1947987  2013-06-19   NaN     19, I70, 8       Mesa County   \n",
       "1          1537576  2012-08-24   NaN  254, H285, 11  Jefferson County   \n",
       "2          1581594  2012-09-23   NaN   115, I76, 13      Logan County   \n",
       "3          1009205  2011-08-25   NaN   197, H85, 47    Douglas County   \n",
       "4          1932619  2013-06-08   NaN  107, H287, 45      Kiowa County   \n",
       "\n",
       "   subject_age subject_race subject_sex officer_id_hash officer_sex  \\\n",
       "0         26.0     hispanic        male      b942632983        male   \n",
       "1          NaN          NaN         NaN      f3d4f46927         NaN   \n",
       "2         52.0        white        male      6e49e2fbc8        male   \n",
       "3         32.0        white      female      eaea851669         NaN   \n",
       "4         33.0     hispanic        male      d18e34d749        male   \n",
       "\n",
       "        type                                          violation arrest_made  \\\n",
       "0  vehicular  Driver's Vision Obstructed Through Required Gl...       False   \n",
       "1  vehicular                                                NaN       False   \n",
       "2  vehicular  Speeding (10-19 MPH Over the Maximum 75 MPH Li...       False   \n",
       "3  vehicular      Speeding (10-19 MPH Over Prima Facie Limit *)       False   \n",
       "4  vehicular           Failed to Drive in Single Lane (Weaving)       False   \n",
       "\n",
       "  citation_issued warning_issued   outcome contraband_found search_conducted  \\\n",
       "0            True          False  citation              NaN            False   \n",
       "1           False          False       NaN              NaN            False   \n",
       "2           False           True   warning              NaN            False   \n",
       "3            True          False  citation              NaN            False   \n",
       "4           False           True   warning              NaN            False   \n",
       "\n",
       "  search_basis raw_Ethnicity  \n",
       "0          NaN             H  \n",
       "1          NaN           NaN  \n",
       "2          NaN             W  \n",
       "3          NaN             W  \n",
       "4          NaN             H  "
      ]
     },
     "execution_count": 1,
     "metadata": {},
     "output_type": "execute_result"
    }
   ],
   "source": [
    "import pandas as pd\n",
    "import matplotlib.pyplot as plt\n",
    "import seaborn as sns\n",
    "\n",
    "df = pd.read_csv('colorado.csv')\n",
    "df.head()"
   ]
  },
  {
   "cell_type": "markdown",
   "metadata": {},
   "source": [
    "# We will first delete all the duplicate records"
   ]
  },
  {
   "cell_type": "code",
   "execution_count": 120,
   "metadata": {},
   "outputs": [
    {
     "data": {
      "text/plain": [
       "(2917367, 20)"
      ]
     },
     "execution_count": 120,
     "metadata": {},
     "output_type": "execute_result"
    }
   ],
   "source": [
    "df = df.drop_duplicates(subset=[\"date\",\"location\",\"county_name\",\"subject_age\",\"officer_id_hash\"])\n",
    "df.shape"
   ]
  },
  {
   "cell_type": "code",
   "execution_count": 121,
   "metadata": {},
   "outputs": [],
   "source": [
    "#removing unwanted columns\n",
    "df = df.drop(df.columns[[0,2,3,4,8,9,10,11,12,13,14,15,16,18,19]], axis=1)\n"
   ]
  },
  {
   "cell_type": "code",
   "execution_count": 122,
   "metadata": {},
   "outputs": [
    {
     "name": "stdout",
     "output_type": "stream",
     "text": [
      "               date  subject_age subject_race subject_sex search_conducted\n",
      "1        2012-08-24          NaN          NaN         NaN            False\n",
      "5        2011-12-23          NaN          NaN         NaN            False\n",
      "8        2012-09-02          NaN          NaN         NaN            False\n",
      "26       2012-04-27          NaN          NaN         NaN            False\n",
      "33       2011-06-10          NaN          NaN         NaN            False\n",
      "...             ...          ...          ...         ...              ...\n",
      "3112625  2017-12-31          NaN          NaN         NaN            False\n",
      "3112635  2017-12-31          NaN          NaN         NaN            False\n",
      "3112781  2017-12-31          NaN          NaN         NaN            False\n",
      "3112786  2017-12-31          NaN          NaN         NaN            False\n",
      "3112823  2017-12-31          NaN          NaN         NaN            False\n",
      "\n",
      "[317692 rows x 5 columns]\n"
     ]
    }
   ],
   "source": [
    "print(df[df.iloc[:, 1:4].isnull().all(axis=1)])"
   ]
  },
  {
   "cell_type": "markdown",
   "metadata": {},
   "source": [
    "# We will delete above mentioned columns as all the values are missing"
   ]
  },
  {
   "cell_type": "code",
   "execution_count": 123,
   "metadata": {},
   "outputs": [
    {
     "data": {
      "text/html": [
       "<div>\n",
       "<style scoped>\n",
       "    .dataframe tbody tr th:only-of-type {\n",
       "        vertical-align: middle;\n",
       "    }\n",
       "\n",
       "    .dataframe tbody tr th {\n",
       "        vertical-align: top;\n",
       "    }\n",
       "\n",
       "    .dataframe thead th {\n",
       "        text-align: right;\n",
       "    }\n",
       "</style>\n",
       "<table border=\"1\" class=\"dataframe\">\n",
       "  <thead>\n",
       "    <tr style=\"text-align: right;\">\n",
       "      <th></th>\n",
       "      <th>date</th>\n",
       "      <th>subject_age</th>\n",
       "      <th>subject_race</th>\n",
       "      <th>subject_sex</th>\n",
       "      <th>search_conducted</th>\n",
       "    </tr>\n",
       "  </thead>\n",
       "  <tbody>\n",
       "    <tr>\n",
       "      <th>0</th>\n",
       "      <td>2013-06-19</td>\n",
       "      <td>26.0</td>\n",
       "      <td>hispanic</td>\n",
       "      <td>male</td>\n",
       "      <td>False</td>\n",
       "    </tr>\n",
       "    <tr>\n",
       "      <th>2</th>\n",
       "      <td>2012-09-23</td>\n",
       "      <td>52.0</td>\n",
       "      <td>white</td>\n",
       "      <td>male</td>\n",
       "      <td>False</td>\n",
       "    </tr>\n",
       "    <tr>\n",
       "      <th>3</th>\n",
       "      <td>2011-08-25</td>\n",
       "      <td>32.0</td>\n",
       "      <td>white</td>\n",
       "      <td>female</td>\n",
       "      <td>False</td>\n",
       "    </tr>\n",
       "    <tr>\n",
       "      <th>4</th>\n",
       "      <td>2013-06-08</td>\n",
       "      <td>33.0</td>\n",
       "      <td>hispanic</td>\n",
       "      <td>male</td>\n",
       "      <td>False</td>\n",
       "    </tr>\n",
       "    <tr>\n",
       "      <th>6</th>\n",
       "      <td>2012-04-07</td>\n",
       "      <td>39.0</td>\n",
       "      <td>white</td>\n",
       "      <td>male</td>\n",
       "      <td>False</td>\n",
       "    </tr>\n",
       "    <tr>\n",
       "      <th>...</th>\n",
       "      <td>...</td>\n",
       "      <td>...</td>\n",
       "      <td>...</td>\n",
       "      <td>...</td>\n",
       "      <td>...</td>\n",
       "    </tr>\n",
       "    <tr>\n",
       "      <th>3112841</th>\n",
       "      <td>2017-12-31</td>\n",
       "      <td>NaN</td>\n",
       "      <td>asian/pacific islander</td>\n",
       "      <td>NaN</td>\n",
       "      <td>False</td>\n",
       "    </tr>\n",
       "    <tr>\n",
       "      <th>3112843</th>\n",
       "      <td>2017-12-31</td>\n",
       "      <td>NaN</td>\n",
       "      <td>white</td>\n",
       "      <td>NaN</td>\n",
       "      <td>False</td>\n",
       "    </tr>\n",
       "    <tr>\n",
       "      <th>3112846</th>\n",
       "      <td>2017-12-31</td>\n",
       "      <td>NaN</td>\n",
       "      <td>white</td>\n",
       "      <td>NaN</td>\n",
       "      <td>False</td>\n",
       "    </tr>\n",
       "    <tr>\n",
       "      <th>3112851</th>\n",
       "      <td>2017-12-31</td>\n",
       "      <td>NaN</td>\n",
       "      <td>asian/pacific islander</td>\n",
       "      <td>NaN</td>\n",
       "      <td>False</td>\n",
       "    </tr>\n",
       "    <tr>\n",
       "      <th>3112852</th>\n",
       "      <td>2017-12-31</td>\n",
       "      <td>NaN</td>\n",
       "      <td>white</td>\n",
       "      <td>NaN</td>\n",
       "      <td>False</td>\n",
       "    </tr>\n",
       "  </tbody>\n",
       "</table>\n",
       "<p>2599675 rows × 5 columns</p>\n",
       "</div>"
      ],
      "text/plain": [
       "               date  subject_age            subject_race subject_sex  \\\n",
       "0        2013-06-19         26.0                hispanic        male   \n",
       "2        2012-09-23         52.0                   white        male   \n",
       "3        2011-08-25         32.0                   white      female   \n",
       "4        2013-06-08         33.0                hispanic        male   \n",
       "6        2012-04-07         39.0                   white        male   \n",
       "...             ...          ...                     ...         ...   \n",
       "3112841  2017-12-31          NaN  asian/pacific islander         NaN   \n",
       "3112843  2017-12-31          NaN                   white         NaN   \n",
       "3112846  2017-12-31          NaN                   white         NaN   \n",
       "3112851  2017-12-31          NaN  asian/pacific islander         NaN   \n",
       "3112852  2017-12-31          NaN                   white         NaN   \n",
       "\n",
       "        search_conducted  \n",
       "0                  False  \n",
       "2                  False  \n",
       "3                  False  \n",
       "4                  False  \n",
       "6                  False  \n",
       "...                  ...  \n",
       "3112841            False  \n",
       "3112843            False  \n",
       "3112846            False  \n",
       "3112851            False  \n",
       "3112852            False  \n",
       "\n",
       "[2599675 rows x 5 columns]"
      ]
     },
     "execution_count": 123,
     "metadata": {},
     "output_type": "execute_result"
    }
   ],
   "source": [
    "df.dropna(subset=['subject_age','subject_race','subject_sex'],how='all')"
   ]
  },
  {
   "cell_type": "markdown",
   "metadata": {},
   "source": [
    "# cleaning the Subject Age column"
   ]
  },
  {
   "cell_type": "code",
   "execution_count": 124,
   "metadata": {},
   "outputs": [
    {
     "data": {
      "image/png": "[encoded data removed]",
      "text/plain": [
       "<Figure size 432x288 with 1 Axes>"
      ]
     },
     "metadata": {
      "needs_background": "light"
     },
     "output_type": "display_data"
    }
   ],
   "source": [
    "sns.histplot(df['subject_age'], bins=30, kde=True)\n",
    "plt.title('Histogram of Age')\n",
    "plt.xlabel('Age')\n",
    "plt.ylabel('Frequency')\n",
    "plt.show()"
   ]
  },
  {
   "cell_type": "markdown",
   "metadata": {},
   "source": [
    "  # We can se the age is skewed towards one side hence it is valid to replace the missing age by Median of the group"
   ]
  },
  {
   "cell_type": "code",
   "execution_count": 125,
   "metadata": {},
   "outputs": [
    {
     "data": {
      "text/plain": [
       "0"
      ]
     },
     "execution_count": 125,
     "metadata": {},
     "output_type": "execute_result"
    }
   ],
   "source": [
    "df['subject_age'].fillna(df['subject_age'].median(), inplace=True)\n",
    "df['subject_age'].isnull().sum()"
   ]
  },
  {
   "cell_type": "markdown",
   "metadata": {},
   "source": [
    "# As per previous hist plot we can see the age column still has some outliers which maybe invalid data from literature review we find out that minimum age of driving in colorado is 15 "
   ]
  },
  {
   "cell_type": "code",
   "execution_count": 126,
   "metadata": {},
   "outputs": [
    {
     "name": "stderr",
     "output_type": "stream",
     "text": [
      "C:\\Users\\Makarand Thorat\\anaconda3\\lib\\site-packages\\seaborn\\_decorators.py:36: FutureWarning: Pass the following variable as a keyword arg: x. From version 0.12, the only valid positional argument will be `data`, and passing other arguments without an explicit keyword will result in an error or misinterpretation.\n",
      "  warnings.warn(\n"
     ]
    },
    {
     "data": {
      "image/png": "[encoded data removed]",
      "text/plain": [
       "<Figure size 432x288 with 1 Axes>"
      ]
     },
     "metadata": {
      "needs_background": "light"
     },
     "output_type": "display_data"
    }
   ],
   "source": [
    "sns.boxplot(df['subject_age'])\n",
    "plt.title('Histogram of Age')\n",
    "plt.xlabel('Age')\n",
    "plt.ylabel('Frequency')\n",
    "plt.show()"
   ]
  },
  {
   "cell_type": "code",
   "execution_count": 127,
   "metadata": {},
   "outputs": [
    {
     "data": {
      "text/html": [
       "<div>\n",
       "<style scoped>\n",
       "    .dataframe tbody tr th:only-of-type {\n",
       "        vertical-align: middle;\n",
       "    }\n",
       "\n",
       "    .dataframe tbody tr th {\n",
       "        vertical-align: top;\n",
       "    }\n",
       "\n",
       "    .dataframe thead th {\n",
       "        text-align: right;\n",
       "    }\n",
       "</style>\n",
       "<table border=\"1\" class=\"dataframe\">\n",
       "  <thead>\n",
       "    <tr style=\"text-align: right;\">\n",
       "      <th></th>\n",
       "      <th>date</th>\n",
       "      <th>subject_age</th>\n",
       "      <th>subject_race</th>\n",
       "      <th>subject_sex</th>\n",
       "      <th>search_conducted</th>\n",
       "    </tr>\n",
       "  </thead>\n",
       "  <tbody>\n",
       "    <tr>\n",
       "      <th>0</th>\n",
       "      <td>2013-06-19</td>\n",
       "      <td>26.0</td>\n",
       "      <td>hispanic</td>\n",
       "      <td>male</td>\n",
       "      <td>False</td>\n",
       "    </tr>\n",
       "    <tr>\n",
       "      <th>1</th>\n",
       "      <td>2012-08-24</td>\n",
       "      <td>38.0</td>\n",
       "      <td>NaN</td>\n",
       "      <td>NaN</td>\n",
       "      <td>False</td>\n",
       "    </tr>\n",
       "    <tr>\n",
       "      <th>2</th>\n",
       "      <td>2012-09-23</td>\n",
       "      <td>52.0</td>\n",
       "      <td>white</td>\n",
       "      <td>male</td>\n",
       "      <td>False</td>\n",
       "    </tr>\n",
       "    <tr>\n",
       "      <th>3</th>\n",
       "      <td>2011-08-25</td>\n",
       "      <td>32.0</td>\n",
       "      <td>white</td>\n",
       "      <td>female</td>\n",
       "      <td>False</td>\n",
       "    </tr>\n",
       "    <tr>\n",
       "      <th>4</th>\n",
       "      <td>2013-06-08</td>\n",
       "      <td>33.0</td>\n",
       "      <td>hispanic</td>\n",
       "      <td>male</td>\n",
       "      <td>False</td>\n",
       "    </tr>\n",
       "    <tr>\n",
       "      <th>...</th>\n",
       "      <td>...</td>\n",
       "      <td>...</td>\n",
       "      <td>...</td>\n",
       "      <td>...</td>\n",
       "      <td>...</td>\n",
       "    </tr>\n",
       "    <tr>\n",
       "      <th>3112841</th>\n",
       "      <td>2017-12-31</td>\n",
       "      <td>38.0</td>\n",
       "      <td>asian/pacific islander</td>\n",
       "      <td>NaN</td>\n",
       "      <td>False</td>\n",
       "    </tr>\n",
       "    <tr>\n",
       "      <th>3112843</th>\n",
       "      <td>2017-12-31</td>\n",
       "      <td>38.0</td>\n",
       "      <td>white</td>\n",
       "      <td>NaN</td>\n",
       "      <td>False</td>\n",
       "    </tr>\n",
       "    <tr>\n",
       "      <th>3112846</th>\n",
       "      <td>2017-12-31</td>\n",
       "      <td>38.0</td>\n",
       "      <td>white</td>\n",
       "      <td>NaN</td>\n",
       "      <td>False</td>\n",
       "    </tr>\n",
       "    <tr>\n",
       "      <th>3112851</th>\n",
       "      <td>2017-12-31</td>\n",
       "      <td>38.0</td>\n",
       "      <td>asian/pacific islander</td>\n",
       "      <td>NaN</td>\n",
       "      <td>False</td>\n",
       "    </tr>\n",
       "    <tr>\n",
       "      <th>3112852</th>\n",
       "      <td>2017-12-31</td>\n",
       "      <td>38.0</td>\n",
       "      <td>white</td>\n",
       "      <td>NaN</td>\n",
       "      <td>False</td>\n",
       "    </tr>\n",
       "  </tbody>\n",
       "</table>\n",
       "<p>2916017 rows × 5 columns</p>\n",
       "</div>"
      ],
      "text/plain": [
       "               date  subject_age            subject_race subject_sex  \\\n",
       "0        2013-06-19         26.0                hispanic        male   \n",
       "1        2012-08-24         38.0                     NaN         NaN   \n",
       "2        2012-09-23         52.0                   white        male   \n",
       "3        2011-08-25         32.0                   white      female   \n",
       "4        2013-06-08         33.0                hispanic        male   \n",
       "...             ...          ...                     ...         ...   \n",
       "3112841  2017-12-31         38.0  asian/pacific islander         NaN   \n",
       "3112843  2017-12-31         38.0                   white         NaN   \n",
       "3112846  2017-12-31         38.0                   white         NaN   \n",
       "3112851  2017-12-31         38.0  asian/pacific islander         NaN   \n",
       "3112852  2017-12-31         38.0                   white         NaN   \n",
       "\n",
       "        search_conducted  \n",
       "0                  False  \n",
       "1                  False  \n",
       "2                  False  \n",
       "3                  False  \n",
       "4                  False  \n",
       "...                  ...  \n",
       "3112841            False  \n",
       "3112843            False  \n",
       "3112846            False  \n",
       "3112851            False  \n",
       "3112852            False  \n",
       "\n",
       "[2916017 rows x 5 columns]"
      ]
     },
     "execution_count": 127,
     "metadata": {},
     "output_type": "execute_result"
    }
   ],
   "source": [
    "df = df[df['subject_age'] >= 15]\n",
    "df"
   ]
  },
  {
   "cell_type": "markdown",
   "metadata": {},
   "source": [
    "# We will be doing analysis of white, black and Hispanic Race hence will delete the other values from subject_race column"
   ]
  },
  {
   "cell_type": "code",
   "execution_count": 128,
   "metadata": {},
   "outputs": [
    {
     "data": {
      "text/plain": [
       "0"
      ]
     },
     "execution_count": 128,
     "metadata": {},
     "output_type": "execute_result"
    }
   ],
   "source": [
    "allowed_races = ['hispanic', 'black', 'white']\n",
    "df = df[df['subject_race'].isin(allowed_races)]\n",
    "df['subject_race'].isnull().sum()"
   ]
  },
  {
   "cell_type": "code",
   "execution_count": 129,
   "metadata": {},
   "outputs": [
    {
     "name": "stderr",
     "output_type": "stream",
     "text": [
      "<ipython-input-129-b0934dc6306f>:1: SettingWithCopyWarning: \n",
      "A value is trying to be set on a copy of a slice from a DataFrame\n",
      "\n",
      "See the caveats in the documentation: https://pandas.pydata.org/pandas-docs/stable/user_guide/indexing.html#returning-a-view-versus-a-copy\n",
      "  df.dropna(subset=['search_conducted'],inplace=True)\n",
      "<ipython-input-129-b0934dc6306f>:2: SettingWithCopyWarning: \n",
      "A value is trying to be set on a copy of a slice from a DataFrame\n",
      "\n",
      "See the caveats in the documentation: https://pandas.pydata.org/pandas-docs/stable/user_guide/indexing.html#returning-a-view-versus-a-copy\n",
      "  df.dropna(subset=['date'],inplace=True)\n"
     ]
    },
    {
     "data": {
      "text/plain": [
       "(2317796, 5)"
      ]
     },
     "execution_count": 129,
     "metadata": {},
     "output_type": "execute_result"
    }
   ],
   "source": [
    "#deleteing rows where search value is missing\n",
    "df.dropna(subset=['search_conducted'],inplace=True)\n",
    "df.dropna(subset=['date'],inplace=True)\n",
    "df.shape"
   ]
  },
  {
   "cell_type": "markdown",
   "metadata": {},
   "source": [
    "# Data Processing : We first convert all the date column to just keep the year "
   ]
  },
  {
   "cell_type": "code",
   "execution_count": 133,
   "metadata": {},
   "outputs": [
    {
     "name": "stderr",
     "output_type": "stream",
     "text": [
      "<ipython-input-133-0820d30e23c3>:1: SettingWithCopyWarning: \n",
      "A value is trying to be set on a copy of a slice from a DataFrame.\n",
      "Try using .loc[row_indexer,col_indexer] = value instead\n",
      "\n",
      "See the caveats in the documentation: https://pandas.pydata.org/pandas-docs/stable/user_guide/indexing.html#returning-a-view-versus-a-copy\n",
      "  df['year'] = pd.to_datetime(df['date'])\n"
     ]
    },
    {
     "data": {
      "text/plain": [
       "dtype('O')"
      ]
     },
     "execution_count": 133,
     "metadata": {},
     "output_type": "execute_result"
    }
   ],
   "source": [
    "df['year'] = pd.to_datetime(df['date'])\n",
    "df['date'].dtype"
   ]
  },
  {
   "cell_type": "code",
   "execution_count": 132,
   "metadata": {},
   "outputs": [
    {
     "data": {
      "text/plain": [
       "0         2013-06-19\n",
       "2         2012-09-23\n",
       "3         2011-08-25\n",
       "4         2013-06-08\n",
       "6         2012-04-07\n",
       "             ...    \n",
       "3112837   2017-12-31\n",
       "3112840   2017-12-31\n",
       "3112843   2017-12-31\n",
       "3112846   2017-12-31\n",
       "3112852   2017-12-31\n",
       "Name: year, Length: 2317796, dtype: datetime64[ns]"
      ]
     },
     "execution_count": 132,
     "metadata": {},
     "output_type": "execute_result"
    }
   ],
   "source": [
    "df['year']"
   ]
  },
  {
   "cell_type": "code",
   "execution_count": 18,
   "metadata": {},
   "outputs": [
    {
     "data": {
      "text/plain": [
       "array([2013, 2012, 2011, 2010, 2014, 2015, 2016, 2017], dtype=int64)"
      ]
     },
     "execution_count": 18,
     "metadata": {},
     "output_type": "execute_result"
    }
   ],
   "source": [
    "df['year'].unique()"
   ]
  },
  {
   "cell_type": "code",
   "execution_count": 9,
   "metadata": {},
   "outputs": [],
   "source": [
    "import numpy as np"
   ]
  },
  {
   "cell_type": "markdown",
   "metadata": {},
   "source": [
    "# Creating 3 divisions for ages "
   ]
  },
  {
   "cell_type": "code",
   "execution_count": 23,
   "metadata": {},
   "outputs": [
    {
     "name": "stdout",
     "output_type": "stream",
     "text": [
      "              date  subject_age subject_race subject_sex search_conducted  \\\n",
      "0       2013-06-19         26.0     hispanic        male            False   \n",
      "2       2012-09-23         52.0        white        male            False   \n",
      "3       2011-08-25         32.0        white      female            False   \n",
      "4       2013-06-08         33.0     hispanic        male            False   \n",
      "6       2012-04-07         39.0        white        male            False   \n",
      "...            ...          ...          ...         ...              ...   \n",
      "3112837 2017-12-31         38.0        white         NaN            False   \n",
      "3112840 2017-12-31         38.0        white         NaN            False   \n",
      "3112843 2017-12-31         38.0        white         NaN            False   \n",
      "3112846 2017-12-31         38.0        white         NaN            False   \n",
      "3112852 2017-12-31         38.0        white         NaN            False   \n",
      "\n",
      "         year age_group  \n",
      "0        2013     Young  \n",
      "2        2012     Adult  \n",
      "3        2011     Adult  \n",
      "4        2013     Adult  \n",
      "6        2012     Adult  \n",
      "...       ...       ...  \n",
      "3112837  2017     Adult  \n",
      "3112840  2017     Adult  \n",
      "3112843  2017     Adult  \n",
      "3112846  2017     Adult  \n",
      "3112852  2017     Adult  \n",
      "\n",
      "[2317796 rows x 7 columns]\n"
     ]
    },
    {
     "name": "stderr",
     "output_type": "stream",
     "text": [
      "<ipython-input-23-b779632d82c9>:1: SettingWithCopyWarning: \n",
      "A value is trying to be set on a copy of a slice from a DataFrame.\n",
      "Try using .loc[row_indexer,col_indexer] = value instead\n",
      "\n",
      "See the caveats in the documentation: https://pandas.pydata.org/pandas-docs/stable/user_guide/indexing.html#returning-a-view-versus-a-copy\n",
      "  df['age_group'] = np.select(\n"
     ]
    }
   ],
   "source": [
    "df['age_group'] = np.select(\n",
    "    [\n",
    "        (df['subject_age'] >= 60),\n",
    "        (df['subject_age'] < 60) & (df['subject_age'] >= 30),\n",
    "        (df['subject_age'] < 30)\n",
    "    ],\n",
    "    ['Senior', 'Adult', 'Young'],\n",
    "\n",
    ")\n",
    "\n",
    "# Display the DataFrame with the new 'age_group' column\n",
    "print(df)"
   ]
  },
  {
   "cell_type": "code",
   "execution_count": 32,
   "metadata": {},
   "outputs": [],
   "source": [
    "df = df.sort_values(by='subject_race')"
   ]
  },
  {
   "cell_type": "code",
   "execution_count": 35,
   "metadata": {},
   "outputs": [
    {
     "data": {
      "text/plain": [
       "white       1904098\n",
       "hispanic     335769\n",
       "black         77929\n",
       "Name: subject_race, dtype: int64"
      ]
     },
     "execution_count": 35,
     "metadata": {},
     "output_type": "execute_result"
    }
   ],
   "source": [
    "df['subject_race'].value_counts()"
   ]
  },
  {
   "cell_type": "code",
   "execution_count": 76,
   "metadata": {},
   "outputs": [],
   "source": [
    "df = df.sort_values(by='year')"
   ]
  },
  {
   "cell_type": "code",
   "execution_count": 117,
   "metadata": {},
   "outputs": [],
   "source": [
    "df.to_csv(\"clean_colorado\")"
   ]
  },
  {
   "cell_type": "markdown",
   "metadata": {},
   "source": [
    "# Seprating the Black white and Hispanic data into 3 separate Datafarames"
   ]
  },
  {
   "cell_type": "code",
   "execution_count": null,
   "metadata": {},
   "outputs": [],
   "source": [
    "df_white = df[df['subject_race'] == 'white'].copy()\n",
    "df_hispanic = df[df['subject_race'] == 'hispanic'].copy()\n",
    "df_black = df[df['subject_race'] == 'black'].copy()"
   ]
  },
  {
   "cell_type": "code",
   "execution_count": null,
   "metadata": {},
   "outputs": [],
   "source": [
    "# Calculating the Value of search rate per 100 stops and storing them in list\n",
    "\n",
    "a=[]\n",
    "ayear=[]\n",
    "count=0\n",
    "arace = []\n",
    "newcount=0\n",
    "for i in range(0,len(df_black)):\n",
    "    newcount = newcount+1\n",
    "    if(df_black.iloc[i]['search_conducted']==True):\n",
    "        count = count+1\n",
    "    if(newcount == 500):\n",
    "        a.append(count/5)\n",
    "        arace.append(\"black\")\n",
    "        ayear.append(df_black.iloc[i]['year'])\n",
    "        count=0\n",
    "        newcount=0\n",
    "    if( i == len(df_black)-1):\n",
    "        a.append((count/newcount)*100)\n",
    "        arace.append(\"black\")\n",
    "        ayear.append(df_black.iloc[i]['year'])\n",
    "\n",
    "\n",
    "b=[]\n",
    "byear=[]\n",
    "count=0\n",
    "brace = []\n",
    "newcount=0\n",
    "for i in range(0,len(df_hispanic)):\n",
    "    newcount = newcount+1\n",
    "    if(df_hispanic.iloc[i]['search_conducted']==True):\n",
    "        count = count+1\n",
    "    if(newcount == 500):\n",
    "        b.append(count/5)\n",
    "        brace.append(\"hispanic\")\n",
    "        byear.append(df_hispanic.iloc[i]['year'])\n",
    "        count=0\n",
    "        newcount=0\n",
    "    if( i == len(df_hispanic)-1):\n",
    "        b.append((count/newcount)*100)\n",
    "        brace.append(\"hispanic\")\n",
    "        byear.append(df_hispanic.iloc[i]['year'])\n",
    "\n",
    "c=[]\n",
    "cyear=[]\n",
    "count=0\n",
    "crace = []\n",
    "newcount=0\n",
    "for i in range(0,len(df_white)):\n",
    "    newcount = newcount+1\n",
    "    if(df_white.iloc[i]['search_conducted']==True):\n",
    "        count = count+1\n",
    "    if(newcount == 500):\n",
    "        c.append(count/5)\n",
    "        crace.append(\"white\")\n",
    "        cyear.append(df_white.iloc[i]['year'])\n",
    "        count=0\n",
    "        newcount=0\n",
    "    if( i == len(df_white)-1):\n",
    "        c.append((count/newcount)*100)\n",
    "        crace.append(\"white\")\n",
    "        cyear.append(df_white.iloc[i]['year'])"
   ]
  },
  {
   "cell_type": "code",
   "execution_count": null,
   "metadata": {},
   "outputs": [],
   "source": [
    "#appending the lists in a combined list a , b ,c represents black hispanic and white and adding to a df_new csv file\n",
    "driver_race = arace + brace + crace\n",
    "year = ayear + byear + cyear\n",
    "search_rate = a + b + c\n",
    "\n",
    "df_new = pd.DataFrame({\n",
    "    'driver_race': driver_race,\n",
    "    'year': year,\n",
    "    'search_rate': search_rate\n",
    "})\n",
    "\n",
    "df_new.to_csv(\"df_new.csv\")"
   ]
  }
 ],
 "metadata": {
  "kernelspec": {
   "display_name": "Python 3",
   "language": "python",
   "name": "python3"
  },
  "language_info": {
   "codemirror_mode": {
    "name": "ipython",
    "version": 3
   },
   "file_extension": ".py",
   "mimetype": "text/x-python",
   "name": "python",
   "nbconvert_exporter": "python",
   "pygments_lexer": "ipython3",
   "version": "3.8.5"
  }
 },
 "nbformat": 4,
 "nbformat_minor": 4
}
