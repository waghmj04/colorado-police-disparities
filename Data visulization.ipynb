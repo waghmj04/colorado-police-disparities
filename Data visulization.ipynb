{
 "cells": [
  {
   "cell_type": "code",
   "execution_count": 1,
   "metadata": {},
   "outputs": [
    {
     "name": "stderr",
     "output_type": "stream",
     "text": [
      "C:\\Users\\Makarand Thorat\\anaconda3\\lib\\site-packages\\IPython\\core\\interactiveshell.py:3146: DtypeWarning: Columns (4) have mixed types.Specify dtype option on import or set low_memory=False.\n",
      "  has_raised = await self.run_ast_nodes(code_ast.body, cell_name,\n"
     ]
    },
    {
     "data": {
      "text/html": [
       "<div>\n",
       "<style scoped>\n",
       "    .dataframe tbody tr th:only-of-type {\n",
       "        vertical-align: middle;\n",
       "    }\n",
       "\n",
       "    .dataframe tbody tr th {\n",
       "        vertical-align: top;\n",
       "    }\n",
       "\n",
       "    .dataframe thead th {\n",
       "        text-align: right;\n",
       "    }\n",
       "</style>\n",
       "<table border=\"1\" class=\"dataframe\">\n",
       "  <thead>\n",
       "    <tr style=\"text-align: right;\">\n",
       "      <th></th>\n",
       "      <th>Unnamed: 0</th>\n",
       "      <th>date</th>\n",
       "      <th>subject_age</th>\n",
       "      <th>subject_race</th>\n",
       "      <th>subject_sex</th>\n",
       "      <th>search_conducted</th>\n",
       "      <th>year</th>\n",
       "      <th>age_group</th>\n",
       "    </tr>\n",
       "  </thead>\n",
       "  <tbody>\n",
       "    <tr>\n",
       "      <th>0</th>\n",
       "      <td>0</td>\n",
       "      <td>2013-06-19</td>\n",
       "      <td>26.0</td>\n",
       "      <td>hispanic</td>\n",
       "      <td>male</td>\n",
       "      <td>False</td>\n",
       "      <td>2013</td>\n",
       "      <td>Young</td>\n",
       "    </tr>\n",
       "    <tr>\n",
       "      <th>1</th>\n",
       "      <td>2</td>\n",
       "      <td>2012-09-23</td>\n",
       "      <td>52.0</td>\n",
       "      <td>white</td>\n",
       "      <td>male</td>\n",
       "      <td>False</td>\n",
       "      <td>2012</td>\n",
       "      <td>Adult</td>\n",
       "    </tr>\n",
       "    <tr>\n",
       "      <th>2</th>\n",
       "      <td>3</td>\n",
       "      <td>2011-08-25</td>\n",
       "      <td>32.0</td>\n",
       "      <td>white</td>\n",
       "      <td>female</td>\n",
       "      <td>False</td>\n",
       "      <td>2011</td>\n",
       "      <td>Adult</td>\n",
       "    </tr>\n",
       "    <tr>\n",
       "      <th>3</th>\n",
       "      <td>4</td>\n",
       "      <td>2013-06-08</td>\n",
       "      <td>33.0</td>\n",
       "      <td>hispanic</td>\n",
       "      <td>male</td>\n",
       "      <td>False</td>\n",
       "      <td>2013</td>\n",
       "      <td>Adult</td>\n",
       "    </tr>\n",
       "    <tr>\n",
       "      <th>4</th>\n",
       "      <td>6</td>\n",
       "      <td>2012-04-07</td>\n",
       "      <td>39.0</td>\n",
       "      <td>white</td>\n",
       "      <td>male</td>\n",
       "      <td>False</td>\n",
       "      <td>2012</td>\n",
       "      <td>Adult</td>\n",
       "    </tr>\n",
       "  </tbody>\n",
       "</table>\n",
       "</div>"
      ],
      "text/plain": [
       "   Unnamed: 0        date  subject_age subject_race subject_sex  \\\n",
       "0           0  2013-06-19         26.0     hispanic        male   \n",
       "1           2  2012-09-23         52.0        white        male   \n",
       "2           3  2011-08-25         32.0        white      female   \n",
       "3           4  2013-06-08         33.0     hispanic        male   \n",
       "4           6  2012-04-07         39.0        white        male   \n",
       "\n",
       "   search_conducted  year age_group  \n",
       "0             False  2013     Young  \n",
       "1             False  2012     Adult  \n",
       "2             False  2011     Adult  \n",
       "3             False  2013     Adult  \n",
       "4             False  2012     Adult  "
      ]
     },
     "execution_count": 1,
     "metadata": {},
     "output_type": "execute_result"
    }
   ],
   "source": [
    "import pandas as pd\n",
    "import matplotlib.pyplot as plt\n",
    "import seaborn as sns\n",
    "\n",
    "\n",
    "df = pd.read_csv('clean_colorado.csv')\n",
    "df.head()"
   ]
  },
  {
   "cell_type": "code",
   "execution_count": 48,
   "metadata": {},
   "outputs": [],
   "source": [
    "from ipywidgets import widgets,interact,Layout\n",
    "import numpy as np"
   ]
  },
  {
   "cell_type": "code",
   "execution_count": 2,
   "metadata": {},
   "outputs": [],
   "source": [
    "df = df.sort_values(by='subject_race')"
   ]
  },
  {
   "cell_type": "code",
   "execution_count": 5,
   "metadata": {},
   "outputs": [
    {
     "data": {
      "text/plain": [
       "180736"
      ]
     },
     "execution_count": 5,
     "metadata": {},
     "output_type": "execute_result"
    }
   ],
   "source": [
    "df['subject_sex'].isnull().sum()"
   ]
  },
  {
   "cell_type": "code",
   "execution_count": 10,
   "metadata": {},
   "outputs": [
    {
     "data": {
      "text/plain": [
       "0"
      ]
     },
     "execution_count": 10,
     "metadata": {},
     "output_type": "execute_result"
    }
   ],
   "source": [
    "df.dropna(subset=['subject_sex'],inplace=True)\n",
    "df['subject_sex'].isnull().sum()"
   ]
  },
  {
   "cell_type": "code",
   "execution_count": 11,
   "metadata": {},
   "outputs": [],
   "source": [
    "df_black = df[df['subject_race'] == 'black'].copy()\n",
    "df_white = df[df['subject_race'] == 'white'].copy()\n",
    "df_hispanic = df[df['subject_race'] == 'hispanic'].copy()"
   ]
  },
  {
   "cell_type": "code",
   "execution_count": 93,
   "metadata": {},
   "outputs": [],
   "source": [
    "%matplotlib inline"
   ]
  },
  {
   "cell_type": "markdown",
   "metadata": {},
   "source": [
    "# Seprating the male and female data based on race "
   ]
  },
  {
   "cell_type": "code",
   "execution_count": 15,
   "metadata": {},
   "outputs": [],
   "source": [
    "a_male=[]\n",
    "a_fmale=[]\n",
    "ayear_male=[]\n",
    "ayear_fmale=[]\n",
    "count_male=0\n",
    "count_fmale=0\n",
    "arace_male = []\n",
    "arace_fmale =[]\n",
    "newcount_male=0\n",
    "newcount_fmale=0\n",
    "for i in range(0,len(df_black)):\n",
    "    if(df_black.iloc[i]['subject_sex']=='male'):\n",
    "        newcount_male = newcount_male+1\n",
    "        if(df_black.iloc[i]['search_conducted']==True):\n",
    "            count_male = count_male+1\n",
    "        if(newcount_male == 500):\n",
    "            a_male.append(count_male/5)\n",
    "            arace_male.append(\"black\")\n",
    "            ayear_male.append(df_black.iloc[i]['year'])\n",
    "            count_male=0\n",
    "            newcount_male=0\n",
    "        if( i == len(df_black)-1):\n",
    "            a_male.append((count_male/newcount_male)*100)\n",
    "            arace_male.append(\"black\")\n",
    "            ayear_male.append(df_black.iloc[i]['year'])\n",
    "    else:\n",
    "        newcount_fmale = newcount_fmale+1\n",
    "        if(df_black.iloc[i]['search_conducted']==True):\n",
    "            count_fmale = count_fmale+1\n",
    "        if(newcount_fmale == 500):\n",
    "            a_fmale.append(count_fmale/5)\n",
    "            arace_fmale.append(\"black\")\n",
    "            ayear_fmale.append(df_black.iloc[i]['year'])\n",
    "            count_fmale=0\n",
    "            newcount_fmale=0\n",
    "        if( i == len(df_black)-1):\n",
    "            a_fmale.append((count_fmale/newcount_fmale)*100)\n",
    "            arace_fmale.append(\"black\")\n",
    "            ayear_fmale.append(df_black.iloc[i]['year'])        "
   ]
  },
  {
   "cell_type": "code",
   "execution_count": 18,
   "metadata": {},
   "outputs": [],
   "source": [
    "b_male=[]\n",
    "b_fmale=[]\n",
    "byear_male=[]\n",
    "byear_fmale=[]\n",
    "count_male=0\n",
    "count_fmale=0\n",
    "brace_male = []\n",
    "brace_fmale =[]\n",
    "newcount_male=0\n",
    "newcount_fmale=0\n",
    "for i in range(0,len(df_hispanic)):\n",
    "    if(df_hispanic.iloc[i]['subject_sex']=='male'):\n",
    "        newcount_male = newcount_male+1\n",
    "        if(df_hispanic.iloc[i]['search_conducted']==True):\n",
    "            count_male = count_male+1\n",
    "        if(newcount_male == 500):\n",
    "            b_male.append(count_male/5)\n",
    "            brace_male.append(\"hispanic\")\n",
    "            byear_male.append(df_hispanic.iloc[i]['year'])\n",
    "            count_male=0\n",
    "            newcount_male=0\n",
    "        if( i == len(df_hispanic)-1):\n",
    "            b_male.append((count_male/newcount_male)*100)\n",
    "            brace_male.append(\"hispanic\")\n",
    "            byear_male.append(df_hispanic.iloc[i]['year'])\n",
    "    else:\n",
    "        newcount_fmale = newcount_fmale+1\n",
    "        if(df_hispanic.iloc[i]['search_conducted']==True):\n",
    "            count_fmale = count_fmale+1\n",
    "        if(newcount_fmale == 500):\n",
    "            b_fmale.append(count_fmale/5)\n",
    "            brace_fmale.append(\"hispanic\")\n",
    "            byear_fmale.append(df_hispanic.iloc[i]['year'])\n",
    "            count_fmale=0\n",
    "            newcount_fmale=0\n",
    "        if( i == len(df_hispanic)-1):\n",
    "            b_fmale.append((count_fmale/newcount_fmale)*100)\n",
    "            brace_fmale.append(\"hispanic\")\n",
    "            byear_fmale.append(df_hispanic.iloc[i]['year'])"
   ]
  },
  {
   "cell_type": "code",
   "execution_count": 19,
   "metadata": {},
   "outputs": [],
   "source": [
    "c_male=[]\n",
    "c_fmale=[]\n",
    "cyear_male=[]\n",
    "cyear_fmale=[]\n",
    "count_male=0\n",
    "count_fmale=0\n",
    "crace_male = []\n",
    "crace_fmale =[]\n",
    "newcount_male=0\n",
    "newcount_fmale=0\n",
    "for i in range(0,len(df_white)):\n",
    "    if(df_white.iloc[i]['subject_sex']=='male'):\n",
    "        newcount_male = newcount_male+1\n",
    "        if(df_white.iloc[i]['search_conducted']==True):\n",
    "            count_male = count_male+1\n",
    "        if(newcount_male == 500):\n",
    "            c_male.append(count_male/5)\n",
    "            crace_male.append(\"white\")\n",
    "            cyear_male.append(df_white.iloc[i]['year'])\n",
    "            count_male=0\n",
    "            newcount_male=0\n",
    "        if( i == len(df_white)-1):\n",
    "            c_male.append((count_male/newcount_male)*100)\n",
    "            crace_male.append(\"white\")\n",
    "            cyear_male.append(df_white.iloc[i]['year'])\n",
    "    else:\n",
    "        newcount_fmale = newcount_fmale+1\n",
    "        if(df_white.iloc[i]['search_conducted']==True):\n",
    "            count_fmale = count_fmale+1\n",
    "        if(newcount_fmale == 500):\n",
    "            c_fmale.append(count_fmale/5)\n",
    "            crace_fmale.append(\"white\")\n",
    "            cyear_fmale.append(df_white.iloc[i]['year'])\n",
    "            count_fmale=0\n",
    "            newcount_fmale=0\n",
    "        if( i == len(df_white)-1):\n",
    "            c_fmale.append((count_fmale/newcount_fmale)*100)\n",
    "            crace_fmale.append(\"white\")\n",
    "            cyear_fmale.append(df_white.iloc[i]['year'])"
   ]
  },
  {
   "cell_type": "code",
   "execution_count": 23,
   "metadata": {},
   "outputs": [],
   "source": [
    "driver_race_male = arace_male + brace_male + crace_male\n",
    "year_male = ayear_male + byear_male + cyear_male\n",
    "search_rate_male = a_male + b_male + c_male"
   ]
  },
  {
   "cell_type": "code",
   "execution_count": 24,
   "metadata": {},
   "outputs": [],
   "source": [
    "driver_race_female = arace_fmale + brace_fmale + crace_fmale\n",
    "year_female = ayear_fmale + byear_fmale + cyear_fmale\n",
    "search_rate_female = a_fmale + b_fmale + c_fmale"
   ]
  },
  {
   "cell_type": "code",
   "execution_count": 40,
   "metadata": {},
   "outputs": [],
   "source": [
    "df_male = pd.DataFrame({\n",
    "    'driver_race': driver_race_male,\n",
    "    'year': year_male,\n",
    "    'search_rate': search_rate_male\n",
    "})\n",
    "\n",
    "df_female = pd.DataFrame({\n",
    "    'driver_race': driver_race_female,\n",
    "    'year': year_female,\n",
    "    'search_rate': search_rate_female\n",
    "})\n"
   ]
  },
  {
   "cell_type": "code",
   "execution_count": 90,
   "metadata": {},
   "outputs": [],
   "source": [
    "df_male.to_csv('Male.csv')\n",
    "df_female.to_csv('Female.csv')"
   ]
  },
  {
   "cell_type": "code",
   "execution_count": 27,
   "metadata": {},
   "outputs": [],
   "source": [
    "df_all = pd.read_csv('df_new.csv')"
   ]
  },
  {
   "cell_type": "markdown",
   "metadata": {},
   "source": [
    "# Plotting the Visualization"
   ]
  },
  {
   "cell_type": "code",
   "execution_count": 115,
   "metadata": {
    "scrolled": false
   },
   "outputs": [
    {
     "data": {
      "application/vnd.jupyter.widget-view+json": {
       "model_id": "0469b07ff13f4c2eac38251c6601cc2b",
       "version_major": 2,
       "version_minor": 0
      },
      "text/plain": [
       "interactive(children=(ToggleButtons(description='Race:', layout=Layout(margin='50px 0 0 0', width='700px'), op…"
      ]
     },
     "metadata": {},
     "output_type": "display_data"
    }
   ],
   "source": [
    "def update_plot(selected_race,selected_gender):\n",
    "    plt.figure(figsize=(40,15))\n",
    "    sns.set(font_scale=3)\n",
    "    if (selected_gender=='All'):\n",
    "        if(selected_race=='All'):\n",
    "            sns.lineplot(data=df_all, x='year', y='search_rate', hue='driver_race', palette='Set1',linewidth=3).set(title='Search Rate of all Drivers', xlabel='Years', ylabel='Search Rate per 500 stops')\n",
    "        else:\n",
    "            color = {'black': 'red', 'hispanic': 'blue', 'white': 'green'}[selected_race]\n",
    "            sns.lineplot(data=df_all[df_all['driver_race'] == selected_race], x='year', y='search_rate', color=color, palette='Set1',linewidth=3).set(title='Search Rate of '+ selected_race + ' Drivers', xlabel='Years', ylabel='Search Rate per 500 stops')\n",
    "    else:\n",
    "        if(selected_gender=='Male'):\n",
    "            if(selected_race=='All'):\n",
    "                sns.lineplot(data=df_male, x='year', y='search_rate', hue='driver_race', palette='Set1',linewidth=3).set(title='Search Rate of all Male Drivers', xlabel='Years', ylabel='Search Rate per 500 stops')\n",
    "            else:\n",
    "                color = {'black': 'red', 'hispanic': 'blue', 'white': 'green'}[selected_race]\n",
    "                sns.lineplot(data=df_male[df_male['driver_race'] == selected_race], x='year', y='search_rate', color=color, palette='Set1',linewidth=3).set(title='Search Rate of '+ selected_race + ' Male Drivers', xlabel='Years', ylabel='Search Rate per 500 stops')\n",
    "        else:\n",
    "            if(selected_race=='All'):\n",
    "                sns.lineplot(data=df_female, x='year', y='search_rate', hue='driver_race', palette='Set1',linewidth=3).set(title='Search Rate of all Female Drivers', xlabel='Years', ylabel='Search Rate per 500 stops')\n",
    "            else:\n",
    "                color = {'black': 'red', 'hispanic': 'blue', 'white': 'green'}[selected_race]\n",
    "                sns.lineplot(data=df_female[df_female['driver_race'] == selected_race], x='year', y='search_rate', color=color, palette='Set1',linewidth=3).set(title='Search Rate of '+selected_race+' Female Drivers', xlabel='Years', ylabel='Search Rate per 500 stops')\n",
    "        \n",
    "    \n",
    "    plt.yticks(np.arange(0, 2, 0.2),fontsize=30)\n",
    "    plt.axvline(x=2013, linestyle='--', color='gray', linewidth=5, alpha = 1, label='Legalization of Recreational use of Marijuana')\n",
    "    plt.xticks(fontsize=30)\n",
    "    legend=plt.legend()\n",
    "    legend.get_frame().set_linewidth(4)\n",
    "    for line in legend.get_lines():\n",
    "        line.set_linewidth(6) \n",
    "        \n",
    "    plt.show()\n",
    "\n",
    "subject_races =['All'] + df_all['driver_race'].unique().tolist()\n",
    "genders =['All','Female','Male']\n",
    "\n",
    "# Create an interactive widget\n",
    "race_selector = widgets.ToggleButtons(\n",
    "    options=subject_races,\n",
    "    value=subject_races[0],\n",
    "    description='Race:',\n",
    "    disabled=False,\n",
    "    button_style='',\n",
    "    layout=Layout(width= '700px' ,margin='50px 0 0 0')\n",
    "    \n",
    ")\n",
    "\n",
    "gender_selector = widgets.ToggleButtons(\n",
    "    options=genders,\n",
    "    value=genders[0],\n",
    "    description='Gender:',\n",
    "    disabled=False,\n",
    "    button_style='',\n",
    "    layout=Layout(width='600px',margin='50px 0 10px 0')  \n",
    ")\n",
    "\n",
    "\n",
    "\n",
    "# Display the interactive plot\n",
    "interact(update_plot, selected_race=race_selector,selected_gender=gender_selector);"
   ]
  },
  {
   "cell_type": "code",
   "execution_count": null,
   "metadata": {},
   "outputs": [],
   "source": []
  }
 ],
 "metadata": {
  "kernelspec": {
   "display_name": "Python 3",
   "language": "python",
   "name": "python3"
  },
  "language_info": {
   "codemirror_mode": {
    "name": "ipython",
    "version": 3
   },
   "file_extension": ".py",
   "mimetype": "text/x-python",
   "name": "python",
   "nbconvert_exporter": "python",
   "pygments_lexer": "ipython3",
   "version": "3.8.5"
  }
 },
 "nbformat": 4,
 "nbformat_minor": 4
}
